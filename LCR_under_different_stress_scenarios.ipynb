{
  "nbformat": 4,
  "nbformat_minor": 0,
  "metadata": {
    "colab": {
      "provenance": [],
      "authorship_tag": "ABX9TyMvhTniSP4osDvTo99dIFN6",
      "include_colab_link": true
    },
    "kernelspec": {
      "name": "python3",
      "display_name": "Python 3"
    },
    "language_info": {
      "name": "python"
    }
  },
  "cells": [
    {
      "cell_type": "markdown",
      "metadata": {
        "id": "view-in-github",
        "colab_type": "text"
      },
      "source": [
        "<a href=\"https://colab.research.google.com/github/Harman061/Liquidity-Risk-Projects/blob/Main/LCR_under_different_stress_scenarios.ipynb\" target=\"_parent\"><img src=\"https://colab.research.google.com/assets/colab-badge.svg\" alt=\"Open In Colab\"/></a>"
      ]
    },
    {
      "cell_type": "code",
      "source": [
        "import numpy as np\n",
        "import pandas as pd\n",
        "\n",
        "def calculate_lcr(hqla, cash_outflows, cash_inflows, inflow_cap=0.75):\n",
        "    \"\"\"\n",
        "    Calculate Liquidity Coverage Ratio (LCR)\n",
        "    LCR = (HQLA) / (Net Cash Outflows over 30 days)\n",
        "    \"\"\"\n",
        "    net_outflows = cash_outflows - min(cash_inflows, inflow_cap * cash_outflows)\n",
        "    lcr = (hqla / net_outflows) * 100 if net_outflows > 0 else np.inf\n",
        "    return round(lcr, 2)\n"
      ],
      "metadata": {
        "id": "3Sf7xgQLDdph"
      },
      "execution_count": 4,
      "outputs": []
    },
    {
      "cell_type": "code",
      "execution_count": 5,
      "metadata": {
        "id": "RgQnRv06DcyD"
      },
      "outputs": [],
      "source": [
        "\n",
        "# Define stress scenarios\n",
        "stress_scenarios = {\n",
        "    \"Mild Stress\": {\"hqla\": 100, \"outflows\": 120, \"inflows\": 50},\n",
        "    \"Moderate Stress\": {\"hqla\": 90, \"outflows\": 150, \"inflows\": 40},\n",
        "    \"Severe Stress\": {\"hqla\": 80, \"outflows\": 200, \"inflows\": 30},\n",
        "}\n"
      ]
    },
    {
      "cell_type": "code",
      "source": [
        "\n",
        "# Run LCR calculations for each scenario\n",
        "lcr_results = {\n",
        "    scenario: calculate_lcr(data[\"hqla\"], data[\"outflows\"], data[\"inflows\"])\n",
        "    for scenario, data in stress_scenarios.items()\n",
        "}"
      ],
      "metadata": {
        "id": "Kkptc-khDjNS"
      },
      "execution_count": 6,
      "outputs": []
    },
    {
      "cell_type": "code",
      "source": [
        "\n",
        "# Convert results to DataFrame and display\n",
        "lcr_df = pd.DataFrame(list(lcr_results.items()), columns=[\"Stress Scenario\", \"LCR (%)\"])\n",
        "print(lcr_df)\n"
      ],
      "metadata": {
        "colab": {
          "base_uri": "https://localhost:8080/"
        },
        "id": "AI6ovaeEDkzv",
        "outputId": "0f54774d-c00e-409a-c580-a01b94fd0fe2"
      },
      "execution_count": 7,
      "outputs": [
        {
          "output_type": "stream",
          "name": "stdout",
          "text": [
            "   Stress Scenario  LCR (%)\n",
            "0      Mild Stress   142.86\n",
            "1  Moderate Stress    81.82\n",
            "2    Severe Stress    47.06\n"
          ]
        }
      ]
    }
  ]
}